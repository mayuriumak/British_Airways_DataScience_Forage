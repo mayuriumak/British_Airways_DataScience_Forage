{
 "cells": [
  {
   "cell_type": "markdown",
   "metadata": {
    "id": "UqHY9jRQiMCM"
   },
   "source": [
    "# Task 1\n",
    "\n",
    "---\n",
    "\n",
    "## Web scraping and analysis\n",
    "\n",
    "This Jupyter notebook includes some code to get you started with web scraping. We will use a package called `BeautifulSoup` to collect the data from the web. Once you've collected your data and saved it into a local `.csv` file you should start with your analysis.\n",
    "\n",
    "### Scraping data from Skytrax\n",
    "\n",
    "If you visit [https://www.airlinequality.com] you can see that there is a lot of data there. For this task, we are only interested in reviews related to British Airways and the Airline itself.\n",
    "\n",
    "If you navigate to this link: [https://www.airlinequality.com/airline-reviews/british-airways] you will see this data. Now, we can use `Python` and `BeautifulSoup` to collect all the links to the reviews and then to collect the text data on each of the individual review links."
   ]
  },
  {
   "cell_type": "code",
   "execution_count": 1,
   "metadata": {
    "id": "F2dzclMYiMCc"
   },
   "outputs": [],
   "source": [
    "import requests\n",
    "from bs4 import BeautifulSoup\n",
    "import pandas as pd"
   ]
  },
  {
   "cell_type": "code",
   "execution_count": 4,
   "metadata": {
    "colab": {
     "base_uri": "https://localhost:8080/"
    },
    "id": "YF4BTP0jiMCd",
    "outputId": "98b06b26-ff18-4259-d0d5-7a8f7be5d907"
   },
   "outputs": [
    {
     "name": "stdout",
     "output_type": "stream",
     "text": [
      "Scraping page 1\n",
      "   ---> 200 total reviews\n",
      "Scraping page 2\n",
      "   ---> 400 total reviews\n",
      "Scraping page 3\n",
      "   ---> 600 total reviews\n",
      "Scraping page 4\n",
      "   ---> 800 total reviews\n",
      "Scraping page 5\n",
      "   ---> 1000 total reviews\n",
      "Scraping page 6\n",
      "   ---> 1200 total reviews\n",
      "Scraping page 7\n",
      "   ---> 1400 total reviews\n",
      "Scraping page 8\n",
      "   ---> 1600 total reviews\n",
      "Scraping page 9\n",
      "   ---> 1800 total reviews\n",
      "Scraping page 10\n",
      "   ---> 2000 total reviews\n"
     ]
    }
   ],
   "source": [
    "base_url = \"https://www.airlinequality.com/airline-reviews/british-airways\"\n",
    "pages = 10\n",
    "page_size = 200\n",
    "\n",
    "reviews = []\n",
    "\n",
    "# for i in range(1, pages + 1):\n",
    "for i in range(1, pages + 1):\n",
    "\n",
    "    print(f\"Scraping page {i}\")\n",
    "\n",
    "    # Create URL to collect links from paginated data\n",
    "    url = f\"{base_url}/page/{i}/?sortby=post_date%3ADesc&pagesize={page_size}\"\n",
    "\n",
    "    # Collect HTML data from this page\n",
    "    response = requests.get(url)\n",
    "\n",
    "    # Parse content\n",
    "    content = response.content\n",
    "    parsed_content = BeautifulSoup(content, 'html.parser')\n",
    "    for para in parsed_content.find_all(\"div\", {\"class\": \"text_content\"}):\n",
    "        reviews.append(para.get_text())\n",
    "    \n",
    "    print(f\"   ---> {len(reviews)} total reviews\")"
   ]
  },
  {
   "cell_type": "code",
   "execution_count": 8,
   "metadata": {
    "colab": {
     "base_uri": "https://localhost:8080/",
     "height": 206
    },
    "id": "GQ20WVawiMCg",
    "outputId": "274e2e9a-e106-4e9b-84dd-f9018f48751e"
   },
   "outputs": [
    {
     "data": {
      "text/html": [
       "<div>\n",
       "<style scoped>\n",
       "    .dataframe tbody tr th:only-of-type {\n",
       "        vertical-align: middle;\n",
       "    }\n",
       "\n",
       "    .dataframe tbody tr th {\n",
       "        vertical-align: top;\n",
       "    }\n",
       "\n",
       "    .dataframe thead th {\n",
       "        text-align: right;\n",
       "    }\n",
       "</style>\n",
       "<table border=\"1\" class=\"dataframe\">\n",
       "  <thead>\n",
       "    <tr style=\"text-align: right;\">\n",
       "      <th></th>\n",
       "      <th>reviews</th>\n",
       "    </tr>\n",
       "  </thead>\n",
       "  <tbody>\n",
       "    <tr>\n",
       "      <th>0</th>\n",
       "      <td>✅ Trip Verified |  Easy check in a T5. Galleri...</td>\n",
       "    </tr>\n",
       "    <tr>\n",
       "      <th>1</th>\n",
       "      <td>Not Verified |  Flight delayed by an hour, it ...</td>\n",
       "    </tr>\n",
       "    <tr>\n",
       "      <th>2</th>\n",
       "      <td>Not Verified | The staff are very rude and not...</td>\n",
       "    </tr>\n",
       "    <tr>\n",
       "      <th>3</th>\n",
       "      <td>✅ Trip Verified |  Good domestic flight operat...</td>\n",
       "    </tr>\n",
       "    <tr>\n",
       "      <th>4</th>\n",
       "      <td>Not Verified | Failed at all basic travel fund...</td>\n",
       "    </tr>\n",
       "  </tbody>\n",
       "</table>\n",
       "</div>"
      ],
      "text/plain": [
       "                                             reviews\n",
       "0  ✅ Trip Verified |  Easy check in a T5. Galleri...\n",
       "1  Not Verified |  Flight delayed by an hour, it ...\n",
       "2  Not Verified | The staff are very rude and not...\n",
       "3  ✅ Trip Verified |  Good domestic flight operat...\n",
       "4  Not Verified | Failed at all basic travel fund..."
      ]
     },
     "execution_count": 8,
     "metadata": {},
     "output_type": "execute_result"
    }
   ],
   "source": [
    "df = pd.DataFrame()\n",
    "df[\"reviews\"] = reviews\n",
    "df.head()"
   ]
  },
  {
   "cell_type": "markdown",
   "metadata": {
    "id": "HIN2Fl2siMCi"
   },
   "source": [
    "Congratulations! Now you have your dataset for this task! The loops above collected 2000 reviews by iterating through the paginated pages on the website. However, if you want to collect more data, try increasing the number of pages!\n",
    "\n",
    " The next thing that you should do is clean this data to remove any unnecessary text from each of the rows. For example, \"✅ Trip Verified\" can be removed from each row if it exists, as it's not relevant to what we want to investigate."
   ]
  },
  {
   "cell_type": "code",
   "execution_count": 9,
   "metadata": {
    "colab": {
     "base_uri": "https://localhost:8080/",
     "height": 424
    },
    "id": "k_FreE6BiMCj",
    "outputId": "9d3a580f-e974-4e10-9845-ad6aff8ab3e4"
   },
   "outputs": [
    {
     "data": {
      "text/html": [
       "<div>\n",
       "<style scoped>\n",
       "    .dataframe tbody tr th:only-of-type {\n",
       "        vertical-align: middle;\n",
       "    }\n",
       "\n",
       "    .dataframe tbody tr th {\n",
       "        vertical-align: top;\n",
       "    }\n",
       "\n",
       "    .dataframe thead th {\n",
       "        text-align: right;\n",
       "    }\n",
       "</style>\n",
       "<table border=\"1\" class=\"dataframe\">\n",
       "  <thead>\n",
       "    <tr style=\"text-align: right;\">\n",
       "      <th></th>\n",
       "      <th>reviews</th>\n",
       "    </tr>\n",
       "  </thead>\n",
       "  <tbody>\n",
       "    <tr>\n",
       "      <th>0</th>\n",
       "      <td>✅ Trip Verified |  Easy check in a T5. Galleri...</td>\n",
       "    </tr>\n",
       "    <tr>\n",
       "      <th>1</th>\n",
       "      <td>Not Verified |  Flight delayed by an hour, it ...</td>\n",
       "    </tr>\n",
       "    <tr>\n",
       "      <th>2</th>\n",
       "      <td>Not Verified | The staff are very rude and not...</td>\n",
       "    </tr>\n",
       "    <tr>\n",
       "      <th>3</th>\n",
       "      <td>✅ Trip Verified |  Good domestic flight operat...</td>\n",
       "    </tr>\n",
       "    <tr>\n",
       "      <th>4</th>\n",
       "      <td>Not Verified | Failed at all basic travel fund...</td>\n",
       "    </tr>\n",
       "    <tr>\n",
       "      <th>...</th>\n",
       "      <td>...</td>\n",
       "    </tr>\n",
       "    <tr>\n",
       "      <th>1995</th>\n",
       "      <td>✅ Verified Review |  Flew British Airways to/f...</td>\n",
       "    </tr>\n",
       "    <tr>\n",
       "      <th>1996</th>\n",
       "      <td>✅ Verified Review |  We frequently use British...</td>\n",
       "    </tr>\n",
       "    <tr>\n",
       "      <th>1997</th>\n",
       "      <td>✅ Verified Review |  New York JFK to Düsseldor...</td>\n",
       "    </tr>\n",
       "    <tr>\n",
       "      <th>1998</th>\n",
       "      <td>Quite simply next time we fly, and where possi...</td>\n",
       "    </tr>\n",
       "    <tr>\n",
       "      <th>1999</th>\n",
       "      <td>London Heathrow to Bergen. Took off and landed...</td>\n",
       "    </tr>\n",
       "  </tbody>\n",
       "</table>\n",
       "<p>2000 rows × 1 columns</p>\n",
       "</div>"
      ],
      "text/plain": [
       "                                                reviews\n",
       "0     ✅ Trip Verified |  Easy check in a T5. Galleri...\n",
       "1     Not Verified |  Flight delayed by an hour, it ...\n",
       "2     Not Verified | The staff are very rude and not...\n",
       "3     ✅ Trip Verified |  Good domestic flight operat...\n",
       "4     Not Verified | Failed at all basic travel fund...\n",
       "...                                                 ...\n",
       "1995  ✅ Verified Review |  Flew British Airways to/f...\n",
       "1996  ✅ Verified Review |  We frequently use British...\n",
       "1997  ✅ Verified Review |  New York JFK to Düsseldor...\n",
       "1998  Quite simply next time we fly, and where possi...\n",
       "1999  London Heathrow to Bergen. Took off and landed...\n",
       "\n",
       "[2000 rows x 1 columns]"
      ]
     },
     "execution_count": 9,
     "metadata": {},
     "output_type": "execute_result"
    }
   ],
   "source": [
    "df"
   ]
  },
  {
   "cell_type": "markdown",
   "metadata": {
    "id": "iq0SYZ3pkPK5"
   },
   "source": [
    "Removing the parts before | in the reviews column"
   ]
  },
  {
   "cell_type": "code",
   "execution_count": 11,
   "metadata": {
    "id": "piNYUwLHkObh"
   },
   "outputs": [],
   "source": [
    "df['reviews']= df['reviews'].str.split('|',expand=True)[1]"
   ]
  },
  {
   "cell_type": "code",
   "execution_count": 12,
   "metadata": {
    "colab": {
     "base_uri": "https://localhost:8080/",
     "height": 424
    },
    "id": "f26iHsFbkFbD",
    "outputId": "a9608a3f-e1c5-4694-d9b3-134de8f9314c"
   },
   "outputs": [
    {
     "data": {
      "text/html": [
       "<div>\n",
       "<style scoped>\n",
       "    .dataframe tbody tr th:only-of-type {\n",
       "        vertical-align: middle;\n",
       "    }\n",
       "\n",
       "    .dataframe tbody tr th {\n",
       "        vertical-align: top;\n",
       "    }\n",
       "\n",
       "    .dataframe thead th {\n",
       "        text-align: right;\n",
       "    }\n",
       "</style>\n",
       "<table border=\"1\" class=\"dataframe\">\n",
       "  <thead>\n",
       "    <tr style=\"text-align: right;\">\n",
       "      <th></th>\n",
       "      <th>reviews</th>\n",
       "    </tr>\n",
       "  </thead>\n",
       "  <tbody>\n",
       "    <tr>\n",
       "      <th>0</th>\n",
       "      <td>Easy check in a T5. Galleries south and Nort...</td>\n",
       "    </tr>\n",
       "    <tr>\n",
       "      <th>1</th>\n",
       "      <td>Flight delayed by an hour, it happens, no bi...</td>\n",
       "    </tr>\n",
       "    <tr>\n",
       "      <th>2</th>\n",
       "      <td>The staff are very rude and not trained prope...</td>\n",
       "    </tr>\n",
       "    <tr>\n",
       "      <th>3</th>\n",
       "      <td>Good domestic flight operated by BA Cityflye...</td>\n",
       "    </tr>\n",
       "    <tr>\n",
       "      <th>4</th>\n",
       "      <td>Failed at all basic travel fundamentals: 1) O...</td>\n",
       "    </tr>\n",
       "    <tr>\n",
       "      <th>...</th>\n",
       "      <td>...</td>\n",
       "    </tr>\n",
       "    <tr>\n",
       "      <th>1995</th>\n",
       "      <td>Flew British Airways to/from Heathrow recent...</td>\n",
       "    </tr>\n",
       "    <tr>\n",
       "      <th>1996</th>\n",
       "      <td>We frequently use British Airways morning fl...</td>\n",
       "    </tr>\n",
       "    <tr>\n",
       "      <th>1997</th>\n",
       "      <td>New York JFK to Düsseldorf via London Heathr...</td>\n",
       "    </tr>\n",
       "    <tr>\n",
       "      <th>1998</th>\n",
       "      <td>None</td>\n",
       "    </tr>\n",
       "    <tr>\n",
       "      <th>1999</th>\n",
       "      <td>None</td>\n",
       "    </tr>\n",
       "  </tbody>\n",
       "</table>\n",
       "<p>2000 rows × 1 columns</p>\n",
       "</div>"
      ],
      "text/plain": [
       "                                                reviews\n",
       "0       Easy check in a T5. Galleries south and Nort...\n",
       "1       Flight delayed by an hour, it happens, no bi...\n",
       "2      The staff are very rude and not trained prope...\n",
       "3       Good domestic flight operated by BA Cityflye...\n",
       "4      Failed at all basic travel fundamentals: 1) O...\n",
       "...                                                 ...\n",
       "1995    Flew British Airways to/from Heathrow recent...\n",
       "1996    We frequently use British Airways morning fl...\n",
       "1997    New York JFK to Düsseldorf via London Heathr...\n",
       "1998                                               None\n",
       "1999                                               None\n",
       "\n",
       "[2000 rows x 1 columns]"
      ]
     },
     "execution_count": 12,
     "metadata": {},
     "output_type": "execute_result"
    }
   ],
   "source": [
    "df"
   ]
  },
  {
   "cell_type": "markdown",
   "metadata": {
    "id": "AJSFDJsN-cHb"
   },
   "source": [
    "**Data preprocessing steps:**\n",
    "\n",
    "Cleaning the text\n",
    "\n",
    "Tokenization\n",
    "\n",
    "Enrichment – POS tagging\n",
    "\n",
    "Stopwords removal\n",
    "\n",
    "Obtaining the stem words"
   ]
  },
  {
   "cell_type": "markdown",
   "metadata": {
    "id": "KMBi6LhOH4cS"
   },
   "source": [
    "# Step 1: Cleaning the text"
   ]
  },
  {
   "cell_type": "code",
   "execution_count": 13,
   "metadata": {
    "colab": {
     "base_uri": "https://localhost:8080/",
     "height": 206
    },
    "id": "gFqq9ahao2no",
    "outputId": "a69b2427-e482-423d-f154-6ae82b009cbb"
   },
   "outputs": [
    {
     "data": {
      "text/html": [
       "<div>\n",
       "<style scoped>\n",
       "    .dataframe tbody tr th:only-of-type {\n",
       "        vertical-align: middle;\n",
       "    }\n",
       "\n",
       "    .dataframe tbody tr th {\n",
       "        vertical-align: top;\n",
       "    }\n",
       "\n",
       "    .dataframe thead th {\n",
       "        text-align: right;\n",
       "    }\n",
       "</style>\n",
       "<table border=\"1\" class=\"dataframe\">\n",
       "  <thead>\n",
       "    <tr style=\"text-align: right;\">\n",
       "      <th></th>\n",
       "      <th>reviews</th>\n",
       "      <th>Cleaned Reviews</th>\n",
       "    </tr>\n",
       "  </thead>\n",
       "  <tbody>\n",
       "    <tr>\n",
       "      <th>0</th>\n",
       "      <td>Easy check in a T5. Galleries south and Nort...</td>\n",
       "      <td>Easy check in a T Galleries south and North l...</td>\n",
       "    </tr>\n",
       "    <tr>\n",
       "      <th>1</th>\n",
       "      <td>Flight delayed by an hour, it happens, no bi...</td>\n",
       "      <td>Flight delayed by an hour it happens no biggi...</td>\n",
       "    </tr>\n",
       "    <tr>\n",
       "      <th>2</th>\n",
       "      <td>The staff are very rude and not trained prope...</td>\n",
       "      <td>The staff are very rude and not trained prope...</td>\n",
       "    </tr>\n",
       "    <tr>\n",
       "      <th>3</th>\n",
       "      <td>Good domestic flight operated by BA Cityflye...</td>\n",
       "      <td>Good domestic flight operated by BA Cityflyer...</td>\n",
       "    </tr>\n",
       "    <tr>\n",
       "      <th>4</th>\n",
       "      <td>Failed at all basic travel fundamentals: 1) O...</td>\n",
       "      <td>Failed at all basic travel fundamentals Our f...</td>\n",
       "    </tr>\n",
       "  </tbody>\n",
       "</table>\n",
       "</div>"
      ],
      "text/plain": [
       "                                             reviews  \\\n",
       "0    Easy check in a T5. Galleries south and Nort...   \n",
       "1    Flight delayed by an hour, it happens, no bi...   \n",
       "2   The staff are very rude and not trained prope...   \n",
       "3    Good domestic flight operated by BA Cityflye...   \n",
       "4   Failed at all basic travel fundamentals: 1) O...   \n",
       "\n",
       "                                     Cleaned Reviews  \n",
       "0   Easy check in a T Galleries south and North l...  \n",
       "1   Flight delayed by an hour it happens no biggi...  \n",
       "2   The staff are very rude and not trained prope...  \n",
       "3   Good domestic flight operated by BA Cityflyer...  \n",
       "4   Failed at all basic travel fundamentals Our f...  "
      ]
     },
     "execution_count": 13,
     "metadata": {},
     "output_type": "execute_result"
    }
   ],
   "source": [
    "import re\n",
    "\n",
    "# Define a function to clean the text\n",
    "def clean(text):\n",
    "# Removes all special characters and numericals leaving the alphabets\n",
    "    text = re.sub('[^A-Za-z]+', ' ', str(text))\n",
    "    return text\n",
    "\n",
    "# Cleaning the text in the review column\n",
    "df['Cleaned Reviews'] = df['reviews'].apply(clean)\n",
    "df.head()"
   ]
  },
  {
   "cell_type": "markdown",
   "metadata": {
    "id": "Tkra_JkbH_Mg"
   },
   "source": [
    "# Step 2: Tokenization\n",
    "\n",
    "Tokenization is the process of breaking the text into smaller pieces called Tokens. It can be performed at sentences(sentence tokenization) or word level(word tokenization).\n",
    "\n",
    "# Step 3: Enrichment – POS tagging\n",
    "\n",
    "Parts of Speech (POS) tagging is a process of converting each token into a tuple having the form (word, tag). POS tagging essential to preserve the context of the word and is essential for Lemmatization.\n",
    "\n",
    "# Step 4: Stopwords removal\n",
    "Stopwords in English are words that carry very little useful information. We need to remove them as part of text preprocessing. nltk has a list of stopwords of every language. \n",
    "\n",
    "# Step 5: Obtaining the stem words\n",
    "A stem is a part of a word responsible for its lexical meaning. The two popular techniques of obtaining the root/stem words are Stemming and Lemmatization.\n",
    "\n",
    "The key difference is Stemming often gives some meaningless root words as it simply chops off some characters in the end. Lemmatization gives meaningful root words, however, it requires POS tags of the words.\n"
   ]
  },
  {
   "cell_type": "markdown",
   "metadata": {
    "id": "J2Zkcp26Oy-4"
   },
   "source": [
    " \n",
    "```\n",
    "NLTK is a leading platform for building Python programs to work with human language data. \n",
    "\n",
    "```\n",
    "\n",
    "```\n",
    "It provides easy-to-use interfaces to over 50 corpora and lexical resources such as WordNet, along \n",
    "with a suite of text processing libraries for classification, tokenization, stemming, tagging, \n",
    "parsing, and semantic reasoning, wrappers for industrial-strength NLP libraries\n",
    "```\n",
    "\n",
    "\n"
   ]
  },
  {
   "cell_type": "code",
   "execution_count": 14,
   "metadata": {
    "colab": {
     "base_uri": "https://localhost:8080/"
    },
    "id": "thPM6DJtH7tZ",
    "outputId": "c15c5aa2-5119-44b8-880f-bbfccba22597"
   },
   "outputs": [
    {
     "name": "stderr",
     "output_type": "stream",
     "text": [
      "[nltk_data] Downloading package punkt to\n",
      "[nltk_data]     C:\\Users\\HPHP\\AppData\\Roaming\\nltk_data...\n",
      "[nltk_data]   Package punkt is already up-to-date!\n",
      "[nltk_data] Downloading package stopwords to\n",
      "[nltk_data]     C:\\Users\\HPHP\\AppData\\Roaming\\nltk_data...\n",
      "[nltk_data]   Package stopwords is already up-to-date!\n",
      "[nltk_data] Downloading package wordnet to\n",
      "[nltk_data]     C:\\Users\\HPHP\\AppData\\Roaming\\nltk_data...\n"
     ]
    }
   ],
   "source": [
    "import nltk\n",
    "\n",
    "\"\"\"This punkt tokenizer divides a text into a list of sentences by using an unsupervised algorithm to build a model for abbreviation words, \n",
    "collocations, and words that start sentences. \"\"\"\n",
    "\n",
    "nltk.download('punkt')\n",
    "from nltk.tokenize import word_tokenize\n",
    "from nltk import pos_tag\n",
    "nltk.download('stopwords')\n",
    "from nltk.corpus import stopwords\n",
    "nltk.download('wordnet')\n",
    "from nltk.corpus import wordnet\n",
    "\n"
   ]
  },
  {
   "cell_type": "code",
   "execution_count": 15,
   "metadata": {
    "colab": {
     "base_uri": "https://localhost:8080/",
     "height": 276
    },
    "id": "j0GQHwb2MZmU",
    "outputId": "ea4ac482-b9cf-4658-cb49-dde42d3fac67"
   },
   "outputs": [
    {
     "name": "stderr",
     "output_type": "stream",
     "text": [
      "[nltk_data] Downloading package omw-1.4 to\n",
      "[nltk_data]     C:\\Users\\HPHP\\AppData\\Roaming\\nltk_data...\n",
      "[nltk_data] Downloading package averaged_perceptron_tagger to\n",
      "[nltk_data]     C:\\Users\\HPHP\\AppData\\Roaming\\nltk_data...\n",
      "[nltk_data]   Unzipping taggers\\averaged_perceptron_tagger.zip.\n"
     ]
    },
    {
     "data": {
      "text/html": [
       "<div>\n",
       "<style scoped>\n",
       "    .dataframe tbody tr th:only-of-type {\n",
       "        vertical-align: middle;\n",
       "    }\n",
       "\n",
       "    .dataframe tbody tr th {\n",
       "        vertical-align: top;\n",
       "    }\n",
       "\n",
       "    .dataframe thead th {\n",
       "        text-align: right;\n",
       "    }\n",
       "</style>\n",
       "<table border=\"1\" class=\"dataframe\">\n",
       "  <thead>\n",
       "    <tr style=\"text-align: right;\">\n",
       "      <th></th>\n",
       "      <th>reviews</th>\n",
       "      <th>Cleaned Reviews</th>\n",
       "      <th>POS tagged</th>\n",
       "    </tr>\n",
       "  </thead>\n",
       "  <tbody>\n",
       "    <tr>\n",
       "      <th>0</th>\n",
       "      <td>Easy check in a T5. Galleries south and Nort...</td>\n",
       "      <td>Easy check in a T Galleries south and North l...</td>\n",
       "      <td>[(Easy, a), (check, n), (Galleries, n), (south...</td>\n",
       "    </tr>\n",
       "    <tr>\n",
       "      <th>1</th>\n",
       "      <td>Flight delayed by an hour, it happens, no bi...</td>\n",
       "      <td>Flight delayed by an hour it happens no biggi...</td>\n",
       "      <td>[(Flight, n), (delayed, v), (hour, n), (happen...</td>\n",
       "    </tr>\n",
       "    <tr>\n",
       "      <th>2</th>\n",
       "      <td>The staff are very rude and not trained prope...</td>\n",
       "      <td>The staff are very rude and not trained prope...</td>\n",
       "      <td>[(staff, n), (rude, a), (trained, v), (properl...</td>\n",
       "    </tr>\n",
       "    <tr>\n",
       "      <th>3</th>\n",
       "      <td>Good domestic flight operated by BA Cityflye...</td>\n",
       "      <td>Good domestic flight operated by BA Cityflyer...</td>\n",
       "      <td>[(Good, a), (domestic, a), (flight, n), (opera...</td>\n",
       "    </tr>\n",
       "    <tr>\n",
       "      <th>4</th>\n",
       "      <td>Failed at all basic travel fundamentals: 1) O...</td>\n",
       "      <td>Failed at all basic travel fundamentals Our f...</td>\n",
       "      <td>[(Failed, v), (basic, a), (travel, n), (fundam...</td>\n",
       "    </tr>\n",
       "  </tbody>\n",
       "</table>\n",
       "</div>"
      ],
      "text/plain": [
       "                                             reviews  \\\n",
       "0    Easy check in a T5. Galleries south and Nort...   \n",
       "1    Flight delayed by an hour, it happens, no bi...   \n",
       "2   The staff are very rude and not trained prope...   \n",
       "3    Good domestic flight operated by BA Cityflye...   \n",
       "4   Failed at all basic travel fundamentals: 1) O...   \n",
       "\n",
       "                                     Cleaned Reviews  \\\n",
       "0   Easy check in a T Galleries south and North l...   \n",
       "1   Flight delayed by an hour it happens no biggi...   \n",
       "2   The staff are very rude and not trained prope...   \n",
       "3   Good domestic flight operated by BA Cityflyer...   \n",
       "4   Failed at all basic travel fundamentals Our f...   \n",
       "\n",
       "                                          POS tagged  \n",
       "0  [(Easy, a), (check, n), (Galleries, n), (south...  \n",
       "1  [(Flight, n), (delayed, v), (hour, n), (happen...  \n",
       "2  [(staff, n), (rude, a), (trained, v), (properl...  \n",
       "3  [(Good, a), (domestic, a), (flight, n), (opera...  \n",
       "4  [(Failed, v), (basic, a), (travel, n), (fundam...  "
      ]
     },
     "execution_count": 15,
     "metadata": {},
     "output_type": "execute_result"
    }
   ],
   "source": [
    "#The nltk.corpus package defines a collection of corpus reader classes, which can be used to access the contents of a diverse set of corpora.\n",
    "\n",
    "\n",
    "nltk.download('omw-1.4')\n",
    "nltk.download('averaged_perceptron_tagger')\n",
    "\n",
    "# POS tagger dictionary\n",
    "pos_dict = {'J':wordnet.ADJ, 'V':wordnet.VERB, 'N':wordnet.NOUN, 'R':wordnet.ADV}\n",
    "def token_stop_pos(text):\n",
    "    tags = pos_tag(word_tokenize(text))\n",
    "    #print(tags)\n",
    "    newlist = []\n",
    "    for word, tag in tags:\n",
    "        if word.lower() not in set(stopwords.words('english')):\n",
    "          newlist.append(tuple([word, pos_dict.get(tag[0])]))\n",
    "          #print(tag[0])\n",
    "          #print(pos_dict.get(tag[0]))\n",
    "    return newlist \n",
    "\n",
    "df['POS tagged'] = df['Cleaned Reviews'].apply(token_stop_pos)\n",
    "df.head()"
   ]
  },
  {
   "cell_type": "code",
   "execution_count": 16,
   "metadata": {
    "colab": {
     "base_uri": "https://localhost:8080/",
     "height": 302
    },
    "id": "O_XO6pLnbBPk",
    "outputId": "77043a9a-b016-4101-c8ef-e68c533ffac9"
   },
   "outputs": [
    {
     "data": {
      "text/html": [
       "<div>\n",
       "<style scoped>\n",
       "    .dataframe tbody tr th:only-of-type {\n",
       "        vertical-align: middle;\n",
       "    }\n",
       "\n",
       "    .dataframe tbody tr th {\n",
       "        vertical-align: top;\n",
       "    }\n",
       "\n",
       "    .dataframe thead th {\n",
       "        text-align: right;\n",
       "    }\n",
       "</style>\n",
       "<table border=\"1\" class=\"dataframe\">\n",
       "  <thead>\n",
       "    <tr style=\"text-align: right;\">\n",
       "      <th></th>\n",
       "      <th>reviews</th>\n",
       "      <th>Cleaned Reviews</th>\n",
       "      <th>POS tagged</th>\n",
       "      <th>Lemma</th>\n",
       "    </tr>\n",
       "  </thead>\n",
       "  <tbody>\n",
       "    <tr>\n",
       "      <th>0</th>\n",
       "      <td>Easy check in a T5. Galleries south and Nort...</td>\n",
       "      <td>Easy check in a T Galleries south and North l...</td>\n",
       "      <td>[(Easy, a), (check, n), (Galleries, n), (south...</td>\n",
       "      <td>Easy check Galleries south North lounge pack...</td>\n",
       "    </tr>\n",
       "    <tr>\n",
       "      <th>1</th>\n",
       "      <td>Flight delayed by an hour, it happens, no bi...</td>\n",
       "      <td>Flight delayed by an hour it happens no biggi...</td>\n",
       "      <td>[(Flight, n), (delayed, v), (hour, n), (happen...</td>\n",
       "      <td>Flight delay hour happen biggie us change ga...</td>\n",
       "    </tr>\n",
       "    <tr>\n",
       "      <th>2</th>\n",
       "      <td>The staff are very rude and not trained prope...</td>\n",
       "      <td>The staff are very rude and not trained prope...</td>\n",
       "      <td>[(staff, n), (rude, a), (trained, v), (properl...</td>\n",
       "      <td>staff rude train properly exception make chi...</td>\n",
       "    </tr>\n",
       "    <tr>\n",
       "      <th>3</th>\n",
       "      <td>Good domestic flight operated by BA Cityflye...</td>\n",
       "      <td>Good domestic flight operated by BA Cityflyer...</td>\n",
       "      <td>[(Good, a), (domestic, a), (flight, n), (opera...</td>\n",
       "      <td>Good domestic flight operate BA Cityflyer Gr...</td>\n",
       "    </tr>\n",
       "    <tr>\n",
       "      <th>4</th>\n",
       "      <td>Failed at all basic travel fundamentals: 1) O...</td>\n",
       "      <td>Failed at all basic travel fundamentals Our f...</td>\n",
       "      <td>[(Failed, v), (basic, a), (travel, n), (fundam...</td>\n",
       "      <td>Failed basic travel fundamental flight delay...</td>\n",
       "    </tr>\n",
       "  </tbody>\n",
       "</table>\n",
       "</div>"
      ],
      "text/plain": [
       "                                             reviews  \\\n",
       "0    Easy check in a T5. Galleries south and Nort...   \n",
       "1    Flight delayed by an hour, it happens, no bi...   \n",
       "2   The staff are very rude and not trained prope...   \n",
       "3    Good domestic flight operated by BA Cityflye...   \n",
       "4   Failed at all basic travel fundamentals: 1) O...   \n",
       "\n",
       "                                     Cleaned Reviews  \\\n",
       "0   Easy check in a T Galleries south and North l...   \n",
       "1   Flight delayed by an hour it happens no biggi...   \n",
       "2   The staff are very rude and not trained prope...   \n",
       "3   Good domestic flight operated by BA Cityflyer...   \n",
       "4   Failed at all basic travel fundamentals Our f...   \n",
       "\n",
       "                                          POS tagged  \\\n",
       "0  [(Easy, a), (check, n), (Galleries, n), (south...   \n",
       "1  [(Flight, n), (delayed, v), (hour, n), (happen...   \n",
       "2  [(staff, n), (rude, a), (trained, v), (properl...   \n",
       "3  [(Good, a), (domestic, a), (flight, n), (opera...   \n",
       "4  [(Failed, v), (basic, a), (travel, n), (fundam...   \n",
       "\n",
       "                                               Lemma  \n",
       "0    Easy check Galleries south North lounge pack...  \n",
       "1    Flight delay hour happen biggie us change ga...  \n",
       "2    staff rude train properly exception make chi...  \n",
       "3    Good domestic flight operate BA Cityflyer Gr...  \n",
       "4    Failed basic travel fundamental flight delay...  "
      ]
     },
     "execution_count": 16,
     "metadata": {},
     "output_type": "execute_result"
    }
   ],
   "source": [
    "# Obtaining the stem words – Lemmatization\n",
    "\n",
    "from nltk.stem import WordNetLemmatizer\n",
    "wordnet_lemmatizer = WordNetLemmatizer()\n",
    "def lemmatize(pos_data):\n",
    "    lemma_rew = \" \"\n",
    "    for word, pos in pos_data:\n",
    "     if not pos:\n",
    "        lemma = word\n",
    "        lemma_rew = lemma_rew + \" \" + lemma\n",
    "     else:\n",
    "        lemma = wordnet_lemmatizer.lemmatize(word, pos=pos)\n",
    "        lemma_rew = lemma_rew + \" \" + lemma\n",
    "    return lemma_rew\n",
    "\n",
    "df['Lemma'] = df['POS tagged'].apply(lemmatize)\n",
    "df.head()"
   ]
  },
  {
   "cell_type": "code",
   "execution_count": 17,
   "metadata": {
    "colab": {
     "base_uri": "https://localhost:8080/",
     "height": 424
    },
    "id": "tJhuV8ogg6zL",
    "outputId": "fed6347b-7d1f-4088-a4a7-06bac6881e6b"
   },
   "outputs": [
    {
     "data": {
      "text/html": [
       "<div>\n",
       "<style scoped>\n",
       "    .dataframe tbody tr th:only-of-type {\n",
       "        vertical-align: middle;\n",
       "    }\n",
       "\n",
       "    .dataframe tbody tr th {\n",
       "        vertical-align: top;\n",
       "    }\n",
       "\n",
       "    .dataframe thead th {\n",
       "        text-align: right;\n",
       "    }\n",
       "</style>\n",
       "<table border=\"1\" class=\"dataframe\">\n",
       "  <thead>\n",
       "    <tr style=\"text-align: right;\">\n",
       "      <th></th>\n",
       "      <th>reviews</th>\n",
       "      <th>Lemma</th>\n",
       "    </tr>\n",
       "  </thead>\n",
       "  <tbody>\n",
       "    <tr>\n",
       "      <th>0</th>\n",
       "      <td>Easy check in a T5. Galleries south and Nort...</td>\n",
       "      <td>Easy check Galleries south North lounge pack...</td>\n",
       "    </tr>\n",
       "    <tr>\n",
       "      <th>1</th>\n",
       "      <td>Flight delayed by an hour, it happens, no bi...</td>\n",
       "      <td>Flight delay hour happen biggie us change ga...</td>\n",
       "    </tr>\n",
       "    <tr>\n",
       "      <th>2</th>\n",
       "      <td>The staff are very rude and not trained prope...</td>\n",
       "      <td>staff rude train properly exception make chi...</td>\n",
       "    </tr>\n",
       "    <tr>\n",
       "      <th>3</th>\n",
       "      <td>Good domestic flight operated by BA Cityflye...</td>\n",
       "      <td>Good domestic flight operate BA Cityflyer Gr...</td>\n",
       "    </tr>\n",
       "    <tr>\n",
       "      <th>4</th>\n",
       "      <td>Failed at all basic travel fundamentals: 1) O...</td>\n",
       "      <td>Failed basic travel fundamental flight delay...</td>\n",
       "    </tr>\n",
       "    <tr>\n",
       "      <th>...</th>\n",
       "      <td>...</td>\n",
       "      <td>...</td>\n",
       "    </tr>\n",
       "    <tr>\n",
       "      <th>1995</th>\n",
       "      <td>Flew British Airways to/from Heathrow recent...</td>\n",
       "      <td>Flew British Airways Heathrow recently first...</td>\n",
       "    </tr>\n",
       "    <tr>\n",
       "      <th>1996</th>\n",
       "      <td>We frequently use British Airways morning fl...</td>\n",
       "      <td>frequently use British Airways morning fligh...</td>\n",
       "    </tr>\n",
       "    <tr>\n",
       "      <th>1997</th>\n",
       "      <td>New York JFK to Düsseldorf via London Heathr...</td>\n",
       "      <td>New York JFK sseldorf via London Heathrow on...</td>\n",
       "    </tr>\n",
       "    <tr>\n",
       "      <th>1998</th>\n",
       "      <td>None</td>\n",
       "      <td>None</td>\n",
       "    </tr>\n",
       "    <tr>\n",
       "      <th>1999</th>\n",
       "      <td>None</td>\n",
       "      <td>None</td>\n",
       "    </tr>\n",
       "  </tbody>\n",
       "</table>\n",
       "<p>2000 rows × 2 columns</p>\n",
       "</div>"
      ],
      "text/plain": [
       "                                                reviews  \\\n",
       "0       Easy check in a T5. Galleries south and Nort...   \n",
       "1       Flight delayed by an hour, it happens, no bi...   \n",
       "2      The staff are very rude and not trained prope...   \n",
       "3       Good domestic flight operated by BA Cityflye...   \n",
       "4      Failed at all basic travel fundamentals: 1) O...   \n",
       "...                                                 ...   \n",
       "1995    Flew British Airways to/from Heathrow recent...   \n",
       "1996    We frequently use British Airways morning fl...   \n",
       "1997    New York JFK to Düsseldorf via London Heathr...   \n",
       "1998                                               None   \n",
       "1999                                               None   \n",
       "\n",
       "                                                  Lemma  \n",
       "0       Easy check Galleries south North lounge pack...  \n",
       "1       Flight delay hour happen biggie us change ga...  \n",
       "2       staff rude train properly exception make chi...  \n",
       "3       Good domestic flight operate BA Cityflyer Gr...  \n",
       "4       Failed basic travel fundamental flight delay...  \n",
       "...                                                 ...  \n",
       "1995    Flew British Airways Heathrow recently first...  \n",
       "1996    frequently use British Airways morning fligh...  \n",
       "1997    New York JFK sseldorf via London Heathrow on...  \n",
       "1998                                               None  \n",
       "1999                                               None  \n",
       "\n",
       "[2000 rows x 2 columns]"
      ]
     },
     "execution_count": 17,
     "metadata": {},
     "output_type": "execute_result"
    }
   ],
   "source": [
    "df[['reviews','Lemma']]"
   ]
  },
  {
   "cell_type": "markdown",
   "metadata": {
    "id": "CV_ELt61kmh9"
   },
   "source": [
    "# Sentiment Analysis using VADER\n",
    "\n",
    "VADER stands for Valence Aware Dictionary and Sentiment Reasoner.\n",
    "\n",
    "Vader sentiment not only tells if the statement is positive or negative along with the intensity of emotion.\n",
    "\n"
   ]
  },
  {
   "cell_type": "code",
   "execution_count": 18,
   "metadata": {
    "colab": {
     "base_uri": "https://localhost:8080/"
    },
    "id": "XgsAuU10jwJ7",
    "outputId": "eaea68e1-4578-4859-dda0-4e2b54f06306"
   },
   "outputs": [
    {
     "name": "stdout",
     "output_type": "stream",
     "text": [
      "Collecting vaderSentiment\n",
      "  Downloading vaderSentiment-3.3.2-py2.py3-none-any.whl (125 kB)\n",
      "Requirement already satisfied: requests in c:\\users\\hphp\\anaconda3\\lib\\site-packages (from vaderSentiment) (2.31.0)\n",
      "Requirement already satisfied: charset-normalizer<4,>=2 in c:\\users\\hphp\\anaconda3\\lib\\site-packages (from requests->vaderSentiment) (2.0.4)\n",
      "Requirement already satisfied: urllib3<3,>=1.21.1 in c:\\users\\hphp\\anaconda3\\lib\\site-packages (from requests->vaderSentiment) (1.26.9)\n",
      "Requirement already satisfied: certifi>=2017.4.17 in c:\\users\\hphp\\anaconda3\\lib\\site-packages (from requests->vaderSentiment) (2021.10.8)\n",
      "Requirement already satisfied: idna<4,>=2.5 in c:\\users\\hphp\\anaconda3\\lib\\site-packages (from requests->vaderSentiment) (3.3)\n",
      "Installing collected packages: vaderSentiment\n",
      "Successfully installed vaderSentiment-3.3.2\n"
     ]
    },
    {
     "name": "stderr",
     "output_type": "stream",
     "text": [
      "WARNING: Ignoring invalid distribution -ytz (c:\\users\\hphp\\anaconda3\\lib\\site-packages)\n",
      "WARNING: Ignoring invalid distribution -ytz (c:\\users\\hphp\\anaconda3\\lib\\site-packages)\n",
      "WARNING: Ignoring invalid distribution -ytz (c:\\users\\hphp\\anaconda3\\lib\\site-packages)\n",
      "WARNING: Ignoring invalid distribution -ytz (c:\\users\\hphp\\anaconda3\\lib\\site-packages)\n",
      "WARNING: Ignoring invalid distribution -ytz (c:\\users\\hphp\\anaconda3\\lib\\site-packages)\n",
      "WARNING: Ignoring invalid distribution -ytz (c:\\users\\hphp\\anaconda3\\lib\\site-packages)\n",
      "WARNING: Ignoring invalid distribution -ytz (c:\\users\\hphp\\anaconda3\\lib\\site-packages)\n"
     ]
    }
   ],
   "source": [
    "!pip install vaderSentiment"
   ]
  },
  {
   "cell_type": "code",
   "execution_count": 19,
   "metadata": {
    "colab": {
     "base_uri": "https://localhost:8080/",
     "height": 337
    },
    "id": "vPD0nmUqkjMr",
    "outputId": "28578b09-98b7-42ef-9f6f-7f71492ecd44"
   },
   "outputs": [
    {
     "data": {
      "text/html": [
       "<div>\n",
       "<style scoped>\n",
       "    .dataframe tbody tr th:only-of-type {\n",
       "        vertical-align: middle;\n",
       "    }\n",
       "\n",
       "    .dataframe tbody tr th {\n",
       "        vertical-align: top;\n",
       "    }\n",
       "\n",
       "    .dataframe thead th {\n",
       "        text-align: right;\n",
       "    }\n",
       "</style>\n",
       "<table border=\"1\" class=\"dataframe\">\n",
       "  <thead>\n",
       "    <tr style=\"text-align: right;\">\n",
       "      <th></th>\n",
       "      <th>reviews</th>\n",
       "      <th>Cleaned Reviews</th>\n",
       "      <th>POS tagged</th>\n",
       "      <th>Lemma</th>\n",
       "      <th>Sentiment</th>\n",
       "      <th>Analysis</th>\n",
       "    </tr>\n",
       "  </thead>\n",
       "  <tbody>\n",
       "    <tr>\n",
       "      <th>0</th>\n",
       "      <td>Easy check in a T5. Galleries south and Nort...</td>\n",
       "      <td>Easy check in a T Galleries south and North l...</td>\n",
       "      <td>[(Easy, a), (check, n), (Galleries, n), (south...</td>\n",
       "      <td>Easy check Galleries south North lounge pack...</td>\n",
       "      <td>0.9415</td>\n",
       "      <td>Positive</td>\n",
       "    </tr>\n",
       "    <tr>\n",
       "      <th>1</th>\n",
       "      <td>Flight delayed by an hour, it happens, no bi...</td>\n",
       "      <td>Flight delayed by an hour it happens no biggi...</td>\n",
       "      <td>[(Flight, n), (delayed, v), (hour, n), (happen...</td>\n",
       "      <td>Flight delay hour happen biggie us change ga...</td>\n",
       "      <td>-0.2235</td>\n",
       "      <td>Negative</td>\n",
       "    </tr>\n",
       "    <tr>\n",
       "      <th>2</th>\n",
       "      <td>The staff are very rude and not trained prope...</td>\n",
       "      <td>The staff are very rude and not trained prope...</td>\n",
       "      <td>[(staff, n), (rude, a), (trained, v), (properl...</td>\n",
       "      <td>staff rude train properly exception make chi...</td>\n",
       "      <td>-0.7698</td>\n",
       "      <td>Negative</td>\n",
       "    </tr>\n",
       "    <tr>\n",
       "      <th>3</th>\n",
       "      <td>Good domestic flight operated by BA Cityflye...</td>\n",
       "      <td>Good domestic flight operated by BA Cityflyer...</td>\n",
       "      <td>[(Good, a), (domestic, a), (flight, n), (opera...</td>\n",
       "      <td>Good domestic flight operate BA Cityflyer Gr...</td>\n",
       "      <td>0.9420</td>\n",
       "      <td>Positive</td>\n",
       "    </tr>\n",
       "    <tr>\n",
       "      <th>4</th>\n",
       "      <td>Failed at all basic travel fundamentals: 1) O...</td>\n",
       "      <td>Failed at all basic travel fundamentals Our f...</td>\n",
       "      <td>[(Failed, v), (basic, a), (travel, n), (fundam...</td>\n",
       "      <td>Failed basic travel fundamental flight delay...</td>\n",
       "      <td>-0.9019</td>\n",
       "      <td>Negative</td>\n",
       "    </tr>\n",
       "  </tbody>\n",
       "</table>\n",
       "</div>"
      ],
      "text/plain": [
       "                                             reviews  \\\n",
       "0    Easy check in a T5. Galleries south and Nort...   \n",
       "1    Flight delayed by an hour, it happens, no bi...   \n",
       "2   The staff are very rude and not trained prope...   \n",
       "3    Good domestic flight operated by BA Cityflye...   \n",
       "4   Failed at all basic travel fundamentals: 1) O...   \n",
       "\n",
       "                                     Cleaned Reviews  \\\n",
       "0   Easy check in a T Galleries south and North l...   \n",
       "1   Flight delayed by an hour it happens no biggi...   \n",
       "2   The staff are very rude and not trained prope...   \n",
       "3   Good domestic flight operated by BA Cityflyer...   \n",
       "4   Failed at all basic travel fundamentals Our f...   \n",
       "\n",
       "                                          POS tagged  \\\n",
       "0  [(Easy, a), (check, n), (Galleries, n), (south...   \n",
       "1  [(Flight, n), (delayed, v), (hour, n), (happen...   \n",
       "2  [(staff, n), (rude, a), (trained, v), (properl...   \n",
       "3  [(Good, a), (domestic, a), (flight, n), (opera...   \n",
       "4  [(Failed, v), (basic, a), (travel, n), (fundam...   \n",
       "\n",
       "                                               Lemma  Sentiment  Analysis  \n",
       "0    Easy check Galleries south North lounge pack...     0.9415  Positive  \n",
       "1    Flight delay hour happen biggie us change ga...    -0.2235  Negative  \n",
       "2    staff rude train properly exception make chi...    -0.7698  Negative  \n",
       "3    Good domestic flight operate BA Cityflyer Gr...     0.9420  Positive  \n",
       "4    Failed basic travel fundamental flight delay...    -0.9019  Negative  "
      ]
     },
     "execution_count": 19,
     "metadata": {},
     "output_type": "execute_result"
    }
   ],
   "source": [
    "from vaderSentiment.vaderSentiment import SentimentIntensityAnalyzer\n",
    "analyzer = SentimentIntensityAnalyzer()\n",
    "\n",
    "\n",
    "# function to calculate vader sentiment\n",
    "def vadersentimentanalysis(review):\n",
    "    vs = analyzer.polarity_scores(review)\n",
    "    return vs['compound']\n",
    "\n",
    "df['Sentiment'] = df['Lemma'].apply(vadersentimentanalysis)\n",
    "\n",
    "# function to analyse\n",
    "def vader_analysis(compound):\n",
    "    if compound >= 0.5:\n",
    "        return 'Positive'\n",
    "    elif compound < 0 :\n",
    "        return 'Negative'\n",
    "    else:\n",
    "        return 'Neutral'\n",
    "df['Analysis'] = df['Sentiment'].apply(vader_analysis)\n",
    "df.head()"
   ]
  },
  {
   "cell_type": "code",
   "execution_count": 20,
   "metadata": {
    "colab": {
     "base_uri": "https://localhost:8080/"
    },
    "id": "9szxF3ZRl6Uz",
    "outputId": "1f788056-636d-4a28-9ffb-1d6f0129e6e1"
   },
   "outputs": [
    {
     "data": {
      "text/plain": [
       "Positive    996\n",
       "Negative    723\n",
       "Neutral     281\n",
       "Name: Analysis, dtype: int64"
      ]
     },
     "execution_count": 20,
     "metadata": {},
     "output_type": "execute_result"
    }
   ],
   "source": [
    "vader_counts = df['Analysis'].value_counts()\n",
    "vader_counts"
   ]
  },
  {
   "cell_type": "markdown",
   "metadata": {
    "id": "OmQEB_0emF9C"
   },
   "source": [
    "# Visual Representation"
   ]
  },
  {
   "cell_type": "code",
   "execution_count": 24,
   "metadata": {
    "colab": {
     "base_uri": "https://localhost:8080/",
     "height": 449
    },
    "id": "m3szQ7aOmFXx",
    "outputId": "65b90dce-fcc0-4294-8174-0442d9a744ca"
   },
   "outputs": [
    {
     "data": {
      "text/plain": [
       "([<matplotlib.patches.Wedge at 0x2f38202d5e0>,\n",
       "  <matplotlib.patches.Wedge at 0x2f38203ccd0>,\n",
       "  <matplotlib.patches.Wedge at 0x2f38204c310>],\n",
       " [Text(0.006911472368401293, 1.0999782868537455, 'Positive'),\n",
       "  Text(-0.47615988052220926, -0.9916006092076969, 'Negative'),\n",
       "  Text(0.9945728009256178, -0.4699201460450186, 'Neutral')],\n",
       " [Text(0.003769894019127977, 0.5999881564656793, '49.8%'),\n",
       "  Text(-0.2597235711939323, -0.5408730595678346, '36.1%'),\n",
       "  Text(0.5424942550503369, -0.2563200796609192, '14.0%')])"
      ]
     },
     "execution_count": 24,
     "metadata": {},
     "output_type": "execute_result"
    },
    {
     "data": {
      "image/png": "[encoded data removed]",
      "text/plain": [
       "<Figure size 432x288 with 1 Axes>"
      ]
     },
     "metadata": {},
     "output_type": "display_data"
    }
   ],
   "source": [
    "import matplotlib.pyplot as plt\n",
    "%matplotlib inline\n",
    "plt.title(\"Reviews Analysis\")\n",
    "plt.pie(vader_counts.values, labels = vader_counts.index, autopct='%1.1f%%')"
   ]
  },
  {
   "cell_type": "code",
   "execution_count": 25,
   "metadata": {
    "id": "cbljobhwmvMy"
   },
   "outputs": [],
   "source": [
    "df.to_csv(\"BA_reviews.csv\")"
   ]
  },
  {
   "cell_type": "code",
   "execution_count": null,
   "metadata": {},
   "outputs": [],
   "source": []
  }
 ],
 "metadata": {
  "colab": {
   "include_colab_link": true,
   "provenance": []
  },
  "kernelspec": {
   "display_name": "Python 3 (ipykernel)",
   "language": "python",
   "name": "python3"
  },
  "language_info": {
   "codemirror_mode": {
    "name": "ipython",
    "version": 3
   },
   "file_extension": ".py",
   "mimetype": "text/x-python",
   "name": "python",
   "nbconvert_exporter": "python",
   "pygments_lexer": "ipython3",
   "version": "3.9.12"
  },
  "vscode": {
   "interpreter": {
    "hash": "4f7924c4c56b083e0e50eadfe7ef592a7a8ef70df33a0047f82280e6be1afe15"
   }
  }
 },
 "nbformat": 4,
 "nbformat_minor": 1
}
